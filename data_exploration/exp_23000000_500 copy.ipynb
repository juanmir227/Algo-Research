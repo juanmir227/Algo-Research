{
 "cells": [
  {
   "cell_type": "code",
   "execution_count": 1,
   "metadata": {},
   "outputs": [
    {
     "name": "stdout",
     "output_type": "stream",
     "text": [
      "Total number of transactions: 21081\n",
      "Total number of senders: 799\n",
      "Total number of receivers: 5738\n",
      "Total active accounts in this chunk: 6044\n",
      "Mean amount of transactions per sender: 26.38\n",
      "Mean amount of unique receiver accounts for a given sender: 8.4\n",
      "Mean amount of transactions per receiver: 3.67\n",
      "Mean amount of unique sender accounts for a given receiver: 1.17\n"
     ]
    }
   ],
   "source": [
    "from enum import unique\n",
    "import pickle\n",
    "import pandas as pd\n",
    "import seaborn as sb\n",
    "import matplotlib.pyplot as plt\n",
    "import networkx as nx\n",
    "import os\n",
    "from dotenv import load_dotenv\n",
    "load_dotenv()\n",
    "import numpy as np\n",
    "\n",
    "initial_number = 23000000\n",
    "number_of_blocks = 500\n",
    "\n",
    "df = pd.read_pickle(os.environ['SAVE_DF_PATH']+\"_\"+str(initial_number)+\"_\"+str(number_of_blocks))\n",
    "\n",
    "sender = df['Sender Address'].tolist()\n",
    "receiver = df['Receiver Address'].tolist()\n",
    "total = sender + receiver\n",
    "\n",
    "# new_df = df.groupby(['Receiver Address'])['Sender Address'].count().reset_index(\n",
    "#   name='Count').sort_values(['Count'], ascending=False)\n",
    "\n",
    "# Voy a realizar estadistica descriptiva sobre todas las transacciones que tengo\n",
    "\n",
    "total_transactions = len(sender)\n",
    "# Numero de transacciones totales en 500 bloques\n",
    "print(f'Total number of transactions: {total_transactions}')\n",
    "# Numero de Senders\n",
    "sender_unique = list(set(sender))\n",
    "print(f'Total number of senders: {len(sender_unique)}')\n",
    "# Numero de Receivers\n",
    "receiver_unique = list(set(receiver))\n",
    "print(f'Total number of receivers: {len(receiver_unique)}')\n",
    "# Numero total de cuentas activas en este chunk\n",
    "total_accounts = list(set(total))\n",
    "print(f'Total active accounts in this chunk: {len(total_accounts)}')\n",
    "\n",
    "# Numero de transacciones promedio por sender\n",
    "txn_per_sender= []\n",
    "unique_connections_per_sender= []\n",
    "for sender in sender_unique:\n",
    "    txns = df[df['Sender Address'] == sender]\n",
    "    received_txns_addresses = txns['Receiver Address'].tolist()\n",
    "    unique_received_txns_addresses = list(set(received_txns_addresses))\n",
    "    txn_number = len(received_txns_addresses)\n",
    "    unique_txn_number = len(unique_received_txns_addresses)\n",
    "\n",
    "    txn_per_sender.append(txn_number)\n",
    "    unique_connections_per_sender.append(unique_txn_number)\n",
    "txn_per_sender = np.array(txn_per_sender)\n",
    "unique_connections_per_sender = np.array(unique_connections_per_sender)\n",
    "mean_txn_per_sender = np.mean(txn_per_sender)\n",
    "mean_unique_connections_per_sender = np.mean(unique_connections_per_sender)\n",
    "\n",
    "print(f'Mean amount of transactions per sender: {round(mean_txn_per_sender,2)}')\n",
    "print(f'Mean amount of unique receiver accounts for a given sender: {round(mean_unique_connections_per_sender,2)}')\n",
    "\n",
    "\n",
    "\n",
    "# Numero de transacciones promedio por receiver\n",
    "txn_per_receiver= []\n",
    "unique_connections_per_receiver= []\n",
    "for receiver in receiver_unique:\n",
    "    txns = df[df['Receiver Address'] == receiver]\n",
    "    sent_txns_addresses = txns['Sender Address'].tolist()\n",
    "    unique_sent_txns_addresses = list(set(sent_txns_addresses))\n",
    "    txn_number = len(sent_txns_addresses)\n",
    "    unique_txn_number = len(unique_sent_txns_addresses)\n",
    "\n",
    "    txn_per_receiver.append(txn_number)\n",
    "    unique_connections_per_receiver.append(unique_txn_number)\n",
    "\n",
    "txn_per_receiver = np.array(txn_per_receiver)\n",
    "unique_connections_per_receiver = np.array(unique_connections_per_receiver)\n",
    "mean_txn_per_receiver = np.mean(txn_per_receiver)\n",
    "mean_unique_connections_per_receiver = np.mean(unique_connections_per_receiver)\n",
    "\n",
    "print(f'Mean amount of transactions per receiver: {round(mean_txn_per_receiver,2)}')\n",
    "print(f'Mean amount of unique sender accounts for a given receiver: {round(mean_unique_connections_per_receiver,2)}')"
   ]
  },
  {
   "cell_type": "code",
   "execution_count": 2,
   "metadata": {},
   "outputs": [
    {
     "name": "stdout",
     "output_type": "stream",
     "text": [
      "Number of only sender accounts: 306\n",
      "38.3% percent of senders are only senders\n",
      "5.06% percent of accounts are only senders\n",
      "Number of only receiver accounts: 5245\n",
      "91.41% percent of receivers are only receivers\n",
      "86.78% percent of accounts are only receivers\n"
     ]
    }
   ],
   "source": [
    "# De el total de cuentas, cuantas son solo senders, cuantas solo receivers, cuantas ambas?\n",
    "### Para senders\n",
    "only_sender = []\n",
    "only_receiver = []\n",
    "\n",
    "for sender in sender_unique:\n",
    "    receiving_sender = df[df['Receiver Address'] == sender]\n",
    "    receiving_sender = receiving_sender['Receiver Address'].tolist()\n",
    "    if len(receiving_sender) == 0:\n",
    "        only_sender.append(sender)\n",
    "\n",
    "print(f'Number of only sender accounts: {len(only_sender)}')\n",
    "\n",
    "sender_proportion = len(only_sender)/len(sender_unique)\n",
    "sender_total_proportion = len(only_sender)/len(total_accounts)\n",
    "print(f'{round(sender_proportion*100,2)}% percent of senders are only senders')\n",
    "print(f'{round(sender_total_proportion*100,2)}% percent of accounts are only senders')\n",
    "\n",
    "### Para receivers\n",
    "\n",
    "\n",
    "for receiver in receiver_unique:\n",
    "    sending_receiver = df[df[\"Sender Address\"] == receiver]\n",
    "    sending_receiver = sending_receiver['Sender Address'].tolist()\n",
    "    if len(sending_receiver) == 0:\n",
    "        only_receiver.append(receiver)\n",
    "\n",
    "print(f'Number of only receiver accounts: {len(only_receiver)}')\n",
    "receiver_proportion = len(only_receiver)/len(receiver_unique)\n",
    "receiver_total_proportion = len(only_receiver) / len(total_accounts)\n",
    "print(f'{round(receiver_proportion*100,2)}% percent of receivers are only receivers')\n",
    "print(f'{round(receiver_total_proportion*100,2)}% percent of accounts are only receivers')"
   ]
  },
  {
   "cell_type": "code",
   "execution_count": 3,
   "metadata": {},
   "outputs": [
    {
     "name": "stdout",
     "output_type": "stream",
     "text": [
      "A given sender in average transacts with 8.4 accounts\n",
      "A given receiver in average transacts with 1.17 accounts\n",
      "A given sender in average transacts with the same account 13.96 times\n",
      "A given receiver in average transacts with the same account 3.16 times\n"
     ]
    }
   ],
   "source": [
    "# Numero de cuentas unicas con las que se comunica un sender\n",
    "\n",
    "# Numero de cuentas unicas con las que se comunica un receiver\n",
    "\n",
    "# De las cuentas con las que interactua, cuantas veces se comunica en promedio con la misma cuenta?\n",
    "\n",
    "\n",
    "sender_comms_count = [] # aca guardo con cuantas cuentas se comunica un sender\n",
    "receiver_comms_count = [] #aca guardo con cuantas cuentas se comunica un receiver\n",
    "mean_accounts_senders = [] # aca guardo cuantas veces se comunica con un mismo receiver cada sender\n",
    "mean_accounts_receivers = [] #aca guardo cuantas veces se comunica con un mismo sender cada receiver\n",
    "\n",
    "for sender in sender_unique:\n",
    "    sender_filtered = df[df['Sender Address'] == sender]\n",
    "    receivers = sender_filtered['Receiver Address'].tolist()\n",
    "    sender_comms_count.append(len(list(set(receivers))))\n",
    "    for receiver in list(set(receivers)):\n",
    "        counter = []\n",
    "        counter.append(receivers.count(receiver))\n",
    "    counter = np.array(counter)\n",
    "    mean_accounts_senders.append(np.mean(counter))\n",
    "\n",
    "mean_accounts_senders = np.array(mean_accounts_senders)\n",
    "real_mean_senders = np.mean(mean_accounts_senders)\n",
    "\n",
    "\n",
    "for receiver in receiver_unique:\n",
    "    receiver_filtered = df[df['Receiver Address'] == receiver]\n",
    "    senders = receiver_filtered['Sender Address'].tolist()\n",
    "    receiver_comms_count.append(len(list(set(senders))))\n",
    "    for sender in list(set(senders)):\n",
    "        counter = []\n",
    "        counter.append(senders.count(sender))\n",
    "    counter = np.array(counter)\n",
    "    mean_accounts_receivers.append(np.mean(counter))\n",
    "\n",
    "mean_accounts_receivers = np.array(mean_accounts_receivers)\n",
    "real_mean_receivers = np.mean(mean_accounts_receivers)\n",
    "mean_sender_comms_count = np.mean(np.array(sender_comms_count))\n",
    "mean_receivers_comms_count = np.mean(np.array(receiver_comms_count))\n",
    "\n",
    "print(f'A given sender in average transacts with {round(mean_sender_comms_count,2)} accounts')\n",
    "print(f'A given receiver in average transacts with {round(mean_receivers_comms_count,2)} accounts')\n",
    "print(f'A given sender in average transacts with the same account {round(real_mean_senders,2)} times')\n",
    "print(f'A given receiver in average transacts with the same account {round(real_mean_receivers,2)} times')"
   ]
  },
  {
   "cell_type": "code",
   "execution_count": 4,
   "metadata": {},
   "outputs": [
    {
     "name": "stdout",
     "output_type": "stream",
     "text": [
      "Top 10 most frequently used Assets Ids :[127746786, 27165954, 300208676, 127746157, 31566704, 312769, 452399768, 226701642, 287867876, 553615859]\n",
      "Percenteage of total transactions involving each asset: [48.33344377 40.62023723  1.02047578  0.70240541  0.69577894  0.49035849\n",
      "  0.4108409   0.40421443  0.26505864  0.21867338]\n",
      "Number of unique senders for each asset: [1, 26, 24, 1, 28, 43, 2, 39, 21, 6]\n",
      "Number of unique receivers for each asset: [1, 4648, 28, 1, 72, 30, 57, 31, 14, 4]\n",
      "Number of unique accounts for each asset: [1, 4668, 40, 1, 85, 55, 59, 49, 27, 7]\n",
      "Percentage of total accounts using this given asseta for each asset: (array([1.65453342e-02, 7.72336201e+01, 6.61813369e-01, 1.65453342e-02,\n",
      "       1.40635341e+00, 9.09993382e-01, 9.76174719e-01, 8.10721377e-01,\n",
      "       4.46724024e-01, 1.15817340e-01]), 2)\n"
     ]
    },
    {
     "data": {
      "image/png": "[encoded data removed]",
      "text/plain": [
       "<Figure size 640x480 with 1 Axes>"
      ]
     },
     "metadata": {},
     "output_type": "display_data"
    }
   ],
   "source": [
    "# Cual es el asset id que mas se repite? Cuanto porcentaje de las transacciones involucran a cada asset?\n",
    "\n",
    "asset_id = df['Asset Id'].tolist()\n",
    "\n",
    "ids = []\n",
    "for i in range(len(asset_id)):\n",
    "\n",
    "    id = asset_id[i]\n",
    "    if id != 'NA':\n",
    "        ids.append(id)\n",
    "\n",
    "for id in ids:\n",
    "    id = str(id)\n",
    "ids = pd.DataFrame(data= {\"Asset Id\": ids})\n",
    "asset_txn = len(ids['Asset Id'].tolist())\n",
    "\n",
    "\n",
    "counter = ids.groupby(['Asset Id'])['Asset Id'].count().reset_index(\n",
    "  name='Count').sort_values(['Count'], ascending=False)\n",
    "counter = counter[:10]\n",
    "\n",
    "Ids = counter['Asset Id'].tolist()\n",
    "counts = counter['Count'].tolist()\n",
    "\n",
    "ticks = range(len(Ids))\n",
    "\n",
    "plt.bar(ticks, counts, align = 'center')\n",
    "plt.xticks(ticks, Ids, rotation = 'vertical')\n",
    "\n",
    "asset_total_proportion = np.array(counts)/asset_txn\n",
    "print(f'Top 10 most frequently used Assets Ids :{Ids}')\n",
    "print(f'Percenteage of total transactions involving each asset: {asset_total_proportion*100}')\n",
    "\n",
    "unique_accounts = []\n",
    "unique_sending = []\n",
    "unique_receiving = []\n",
    "\n",
    "# Cuantas cuentas unicas usan ese mismo asset? Cual es el promedio de cuentas que usan cada asset? Histograma de eso\n",
    "for id in Ids:\n",
    "\n",
    "  filtered = df[df['Asset Id'] == id]\n",
    "  sending = filtered['Sender Address'].tolist()\n",
    "  receiving = filtered['Receiver Address'].tolist()\n",
    "  unique_sending.append(len(list(set(sending))))\n",
    "  unique_receiving.append(len(list(set(receiving))))\n",
    "  total = sending + receiving\n",
    "  unique_accounts.append(len(list(set(total))))\n",
    "\n",
    "print(f'Number of unique senders for each asset: {unique_sending}')\n",
    "print(f'Number of unique receivers for each asset: {unique_receiving}')\n",
    "print(f'Number of unique accounts for each asset: {unique_accounts}')\n",
    "\n",
    "account_proportion = np.array(unique_accounts)/len(total_accounts)\n",
    "\n",
    "print(f'Percentage of total accounts using this given asseta for each asset: {account_proportion*100,2}')"
   ]
  },
  {
   "cell_type": "code",
   "execution_count": 5,
   "metadata": {},
   "outputs": [
    {
     "name": "stdout",
     "output_type": "stream",
     "text": [
      "Number of transaction which send 1 of an Asset: 7552\n",
      "106\n",
      "[842270729, 844498442, 583707658, 697319951, 847964690, 342631450, 768500255, 619517985, 847962664, 813495850, 847947825, 754834995, 830561336, 847959113, 847960649, 844498510, 845736527, 583004758, 527485015, 317188185, 754829408, 829625448, 580418664, 847959660, 127746157, 755010673, 509844088, 711647870, 845036678, 847956105, 704805521, 820280978, 846839443, 754027670, 834778265, 754992284, 844496543, 845498015, 818089123, 847952554, 844242093, 525262510, 785195184, 610885297, 360019122, 754112182, 847960766, 564518080, 482094277, 840684743, 662195399, 845770443, 847949005, 845857998, 826154707, 818116820, 127746786, 745311460, 629766386, 596702452, 527481591, 845038328, 749781256, 819689237, 474205463, 744539419, 754049823, 813504802, 843620132, 744695590, 714731814, 587430183, 698639661, 847963441, 610892599, 836032312, 847917886, 847908163, 833709892, 527483715, 707952971, 820280140, 527477069, 709651804, 583007587, 774260068, 847950692, 358700902, 844495206, 845907814, 847956835, 755177322, 818793328, 564438900, 819293046, 824925046, 812647803, 847953277, 846841214, 847961474, 582431108, 847955340, 'NA', 847962002, 813527957, 842405783, 840621466, 755063201, 847946147, 755168677, 489686443, 847912367, 712083377, 718031800, 474173890, 754821572, 754877893, 445203398, 498621383, 847951816, 708157388, 818116557, 847190478, 744538073, 842498017, 813505010, 702695410, 761604084, 847604727, 835220472]\n"
     ]
    }
   ],
   "source": [
    "# Numero de transacciones que involucran un amount igual a 0, menor a 1, que tipo de asset se mandan?\n",
    "amount = df['Transaction Amount'].tolist()\n",
    "amt = []\n",
    "for i in range(len(amount)):\n",
    "    txn = amount[i]\n",
    "    if txn != 'NA':\n",
    "        amt.append(txn)\n",
    "\n",
    "def condition(x):\n",
    "    return x == 1\n",
    "\n",
    "amount_1 = sum(map(condition, amt))\n",
    "print(f'Number of transaction which send 1 of an Asset: {amount_1}')\n",
    "\n",
    "one = df[df['Transaction Amount'] == 1]\n",
    "what_asset = one['Asset Id'].tolist()\n",
    "\n",
    "print(what_asset.count(127746157))\n",
    "print(list(set(what_asset)))\n",
    "\n",
    "#Por lo que se ve ademas de la 127746786 moneda esta del coso de ajedrez la mayoria de las demas son NFTs o assets unicos.\n"
   ]
  },
  {
   "cell_type": "code",
   "execution_count": 6,
   "metadata": {},
   "outputs": [
    {
     "name": "stdout",
     "output_type": "stream",
     "text": [
      "Tipos de transaccion: ['acfg', 'pay', 'appl', 'axfer'] \n",
      "\n",
      "Total involved accounts per transaction type: {'acfg': 100, 'pay': 752, 'appl': 403, 'axfer': 5350} \n",
      "\n",
      "Total senders involved per transaction type : {'acfg': 12, 'pay': 467, 'appl': 233, 'axfer': 439}\n",
      "\n",
      "Total receivers involved per transaction type: {'acfg': 88, 'pay': 500, 'appl': 170, 'axfer': 5167} \n",
      "\n",
      "Percentage of all accounts involved for each transaction type {'acfg': 1.65, 'pay': 12.44, 'appl': 6.67, 'axfer': 88.52}\n"
     ]
    }
   ],
   "source": [
    "# Por cada tipo de transaccion, cuantas cuentas estan involucradas? Cuanto porcentaje del total de las transacciones en este chunk?\n",
    "\n",
    "# Cual es el promedio de senders y receivers por cada tipo de transaccion?\n",
    "\n",
    "\n",
    "types = df['Transaction Type']\n",
    "txn_type = list(set(types))\n",
    "print(f'Tipos de transaccion: {txn_type} \\n')\n",
    "\n",
    "senders_per_type = dict()\n",
    "receivers_per_type = dict()\n",
    "accounts_per_type = dict()\n",
    "total_accounts_involved = []\n",
    "\n",
    "for type in txn_type:\n",
    "    df_with_type = df[df['Transaction Type'] == type]\n",
    "    senders_involved = df_with_type['Sender Address'].tolist()\n",
    "    receivers_involved = df_with_type['Receiver Address'].tolist()\n",
    "    total_involved = senders_involved + receivers_involved\n",
    "    accounts_per_type[type] = len(list(set(total_involved)))\n",
    "    senders_per_type[type] = len(list(set(senders_involved)))\n",
    "    receivers_per_type[type] = len(list(set(receivers_involved)))\n",
    "\n",
    "print(f'Total involved accounts per transaction type: {accounts_per_type} \\n')\n",
    "print(f'Total senders involved per transaction type : {senders_per_type}\\n')\n",
    "print(f'Total receivers involved per transaction type: {receivers_per_type} \\n')\n",
    "percent_accounts_per_type = dict()\n",
    "for key in accounts_per_type:\n",
    "    number = accounts_per_type[key]\n",
    "    percent_accounts_per_type[key] = round(number/len(total_accounts)*100,2)\n",
    "\n",
    "print(f'Percentage of all accounts involved for each transaction type {percent_accounts_per_type}')\n"
   ]
  },
  {
   "cell_type": "code",
   "execution_count": null,
   "metadata": {},
   "outputs": [],
   "source": [
    "# Dentro de la temporalidad que tengo, los asset que salen de una cuenta, vuelven a ingresar? o solamente se van y no vuelven?\n",
    "\n",
    "### Esto me puede decir capaz que hay senders mas centrales que distribuyen a receivers, capaz no es equitativo\n",
    "\n",
    "# Histograma de tipo de transaccion\n"
   ]
  },
  {
   "cell_type": "code",
   "execution_count": 9,
   "metadata": {},
   "outputs": [
    {
     "name": "stdout",
     "output_type": "stream",
     "text": [
      "Transaction amount: 3156\n",
      "Closing transactions: 1818\n",
      "Number of transactions sending more than 1 Algo: 568\n",
      "On average each with each transaction 817.72 Algos are being sent\n",
      "6.35 % of total transactions are type pay and send more than 1 Algo\n"
     ]
    }
   ],
   "source": [
    "\n",
    "### Dentro del tipo pay que pasa? la gente se manda algos?\n",
    "\n",
    "payables = df[df['Transaction Type'] == 'pay']\n",
    "\n",
    "payable_senders = payables['Sender Address']\n",
    "payable_receivers = payables['Receiver Address']\n",
    "list(set(payable_senders))\n",
    "\n",
    "payable_amount = payables['Transaction Amount'].tolist()\n",
    "transaction_amount = payable_amount\n",
    "print(f'Transaction amount: {len(transaction_amount)}')\n",
    "\n",
    "closing_transactions = payable_amount.count('NA')\n",
    "\n",
    "print(f'Closing transactions: {closing_transactions}')\n",
    "placeholder = []\n",
    "\n",
    "for i in range(len(payable_amount)):\n",
    "    amounts = payable_amount[i]\n",
    "    if amounts != 'NA':\n",
    "        placeholder.append(amounts)\n",
    "\n",
    "payable_amount = placeholder\n",
    "# print(len(payable_amount))\n",
    "\n",
    "payable_amount = np.array(payable_amount)\n",
    "\n",
    "mean_amount = np.mean(payable_amount)\n",
    "mean_amount = mean_amount/1000000\n",
    "mean_amount = round(mean_amount, 2)\n",
    "\n",
    "# plt.hist(payable_amount, bins = 1000)\n",
    "# plt.xlim([0,0.8*10**10])\n",
    "\n",
    "\n",
    "amount_counter = payables.groupby(['Transaction Amount'])['Transaction Amount'].count().reset_index(\n",
    "  name='Count').sort_values(['Count'], ascending=False)\n",
    "\n",
    "#amount_counter = amount_counter.drop([1056])\n",
    "# print(amount_counter)\n",
    "# Checkeo cuantas transacciones mandan mas de un algo\n",
    "\n",
    "more_than_one = payable_amount[payable_amount >= 1000000]\n",
    "# print(more_than_one)\n",
    "print(f'Number of transactions sending more than 1 Algo: {len(more_than_one)}') #831 de las transacciones son envios mayores que 1 algo\n",
    "print(f'On average each with each transaction {mean_amount} Algos are being sent')\n",
    "\n",
    "frac_more_than_one = len(payable_amount) / len(df['Sender Address'].tolist())\n",
    "percent_more_than_one = frac_more_than_one*100\n",
    "percent_more_than_one = round(percent_more_than_one,2)\n",
    "# print(frac_more_than_one*100)\n",
    "\n",
    "print(f'{percent_more_than_one} % of total transactions are type pay and send more than 1 Algo')"
   ]
  },
  {
   "cell_type": "code",
   "execution_count": 35,
   "metadata": {},
   "outputs": [
    {
     "data": {
      "text/plain": [
       "2995"
      ]
     },
     "execution_count": 35,
     "metadata": {},
     "output_type": "execute_result"
    }
   ],
   "source": [
    "# Histograma de distacia entre transacciones (contando por bloque) promedio para senders y receivers\n",
    "\n",
    "# Para el address central, hay algun tipo de temporalidad para el envio de las transacciones que hace? y para las que ya hizo, se repiten?\n",
    "\n",
    "### Cosas que necesito algun tipo de API\n",
    "# Obtener la cantidad de transacciones totales hechas por cada cuenta unica en el frame de temporalidad de 500 bloques, y ver si se puede\n",
    "# deducir a partir de cuantas transacciones hace en promedio una cuenta si alguien es una app o un humano. Importa tambien cuantas\n",
    "# transacciones en promedio realiza cada address en su lifetime."
   ]
  },
  {
   "cell_type": "code",
   "execution_count": 10,
   "metadata": {},
   "outputs": [
    {
     "data": {
      "text/plain": [
       "<AxesSubplot: xlabel='Transaction Type', ylabel='Count'>"
      ]
     },
     "execution_count": 10,
     "metadata": {},
     "output_type": "execute_result"
    },
    {
     "data": {
      "image/png": "[encoded data removed]",
      "text/plain": [
       "<Figure size 640x480 with 1 Axes>"
      ]
     },
     "metadata": {},
     "output_type": "display_data"
    }
   ],
   "source": [
    "# Histograma de tipo de transaccion\n",
    "sb.histplot(df , x='Transaction Type')"
   ]
  },
  {
   "cell_type": "code",
   "execution_count": 11,
   "metadata": {},
   "outputs": [
    {
     "name": "stdout",
     "output_type": "stream",
     "text": [
      "Total number of transactions: 21081\n",
      "Total number of senders: 799\n",
      "Total number of receivers: 5738\n",
      "Total active accounts in this chunk: 6044\n",
      "Mean amount of transactions per sender: 26.38\n",
      "Mean amount of unique receiver accounts for a given sender: 8.4\n",
      "Mean amount of transactions per receiver: 3.67\n",
      "Mean amount of unique sender accounts for a given receiver: 1.17\n",
      "Number of only sender accounts: 306\n",
      "38.3% percent of senders are only senders\n",
      "5.06% percent of accounts are only senders\n",
      "Number of only receiver accounts: 5245\n",
      "91.41% percent of receivers are only receivers\n",
      "86.78% percent of accounts are only receivers\n",
      "A given sender in average transacts with 8.4 accounts\n",
      "A given receiver in average transacts with 1.17 accounts\n",
      "A given sender in average transacts with the same account 13.96 times\n",
      "A given receiver in average transacts with the same account 3.16 times\n",
      "Top 10 most frequently used Assets Ids :[127746786, 27165954, 300208676, 127746157, 31566704, 312769, 452399768, 226701642, 287867876, 553615859]\n",
      "Percenteage of total transactions involving each asset: [48.33344377 40.62023723  1.02047578  0.70240541  0.69577894  0.49035849\n",
      "  0.4108409   0.40421443  0.26505864  0.21867338]\n",
      "Number of unique senders for each asset: [1, 26, 24, 1, 28, 43, 2, 39, 21, 6]\n",
      "Number of unique receivers for each asset: [1, 4648, 28, 1, 72, 30, 57, 31, 14, 4]\n",
      "Number of unique accounts for each asset: [1, 4668, 40, 1, 85, 55, 59, 49, 27, 7]\n",
      "Percentage of total accounts using this given asseta for each asset: (array([1.65453342e-02, 7.72336201e+01, 6.61813369e-01, 1.65453342e-02,\n",
      "       1.40635341e+00, 9.09993382e-01, 9.76174719e-01, 8.10721377e-01,\n",
      "       4.46724024e-01, 1.15817340e-01]), 2)\n",
      "Number of transaction which send 1 of an Asset: 7552\n",
      "106\n",
      "[842270729, 844498442, 583707658, 697319951, 847964690, 342631450, 768500255, 619517985, 847962664, 813495850, 847947825, 754834995, 830561336, 847959113, 847960649, 844498510, 845736527, 583004758, 527485015, 317188185, 754829408, 829625448, 580418664, 847959660, 127746157, 755010673, 509844088, 711647870, 845036678, 847956105, 704805521, 820280978, 846839443, 754027670, 834778265, 754992284, 844496543, 845498015, 818089123, 847952554, 844242093, 525262510, 785195184, 610885297, 360019122, 754112182, 847960766, 564518080, 482094277, 840684743, 662195399, 845770443, 847949005, 845857998, 826154707, 818116820, 127746786, 745311460, 629766386, 596702452, 527481591, 845038328, 749781256, 819689237, 474205463, 744539419, 754049823, 813504802, 843620132, 744695590, 714731814, 587430183, 698639661, 847963441, 610892599, 836032312, 847917886, 847908163, 833709892, 527483715, 707952971, 820280140, 527477069, 709651804, 583007587, 774260068, 847950692, 358700902, 844495206, 845907814, 847956835, 755177322, 818793328, 564438900, 819293046, 824925046, 812647803, 847953277, 846841214, 847961474, 582431108, 847955340, 'NA', 847962002, 813527957, 842405783, 840621466, 755063201, 847946147, 755168677, 489686443, 847912367, 712083377, 718031800, 474173890, 754821572, 754877893, 445203398, 498621383, 847951816, 708157388, 818116557, 847190478, 744538073, 842498017, 813505010, 702695410, 761604084, 847604727, 835220472]\n",
      "Tipos de transaccion: ['acfg', 'pay', 'appl', 'axfer'] \n",
      "\n",
      "Total involved accounts per transaction type: {'acfg': 100, 'pay': 752, 'appl': 403, 'axfer': 5350} \n",
      "\n",
      "Total senders involved per transaction type : {'acfg': 12, 'pay': 467, 'appl': 233, 'axfer': 439}\n",
      "\n",
      "Total receivers involved per transaction type: {'acfg': 88, 'pay': 500, 'appl': 170, 'axfer': 5167} \n",
      "\n",
      "Percentage of all accounts involved for each transaction type {'acfg': 1.65, 'pay': 12.44, 'appl': 6.67, 'axfer': 88.52}\n",
      "Transaction amount: 3156\n",
      "Closing transactions: 1818\n",
      "Number of transactions sending more than 1 Algo: 568\n",
      "On average each with each transaction 817.72 Algos are being sent\n",
      "6.35 % of total transactions are type pay and send more than 1 Algo\n"
     ]
    }
   ],
   "source": [
    "# Numero de transacciones totales en 500 bloques\n",
    "print(f'Total number of transactions: {total_transactions}')\n",
    "# Numero de Senders\n",
    "print(f'Total number of senders: {len(sender_unique)}')\n",
    "# Numero de Receivers\n",
    "print(f'Total number of receivers: {len(receiver_unique)}')\n",
    "# Numero total de cuentas activas en este chunk\n",
    "print(f'Total active accounts in this chunk: {len(total_accounts)}')\n",
    "print(f'Mean amount of transactions per sender: {round(mean_txn_per_sender,2)}')\n",
    "print(f'Mean amount of unique receiver accounts for a given sender: {round(mean_unique_connections_per_sender,2)}')\n",
    "print(f'Mean amount of transactions per receiver: {round(mean_txn_per_receiver,2)}')\n",
    "print(f'Mean amount of unique sender accounts for a given receiver: {round(mean_unique_connections_per_receiver,2)}')\n",
    "print(f'Number of only sender accounts: {len(only_sender)}')\n",
    "print(f'{round(sender_proportion*100,2)}% percent of senders are only senders')\n",
    "print(f'{round(sender_total_proportion*100,2)}% percent of accounts are only senders')\n",
    "print(f'Number of only receiver accounts: {len(only_receiver)}')\n",
    "print(f'{round(receiver_proportion*100,2)}% percent of receivers are only receivers')\n",
    "print(f'{round(receiver_total_proportion*100,2)}% percent of accounts are only receivers')\n",
    "print(f'A given sender in average transacts with {round(mean_sender_comms_count,2)} accounts')\n",
    "print(f'A given receiver in average transacts with {round(mean_receivers_comms_count,2)} accounts')\n",
    "print(f'A given sender in average transacts with the same account {round(real_mean_senders,2)} times')\n",
    "print(f'A given receiver in average transacts with the same account {round(real_mean_receivers,2)} times')\n",
    "print(f'Top 10 most frequently used Assets Ids :{Ids}')\n",
    "print(f'Percenteage of total transactions involving each asset: {asset_total_proportion*100}')\n",
    "print(f'Number of unique senders for each asset: {unique_sending}')\n",
    "print(f'Number of unique receivers for each asset: {unique_receiving}')\n",
    "print(f'Number of unique accounts for each asset: {unique_accounts}')\n",
    "print(f'Percentage of total accounts using this given asseta for each asset: {account_proportion*100,2}')\n",
    "print(f'Number of transaction which send 1 of an Asset: {amount_1}')\n",
    "print(what_asset.count(127746157))\n",
    "print(list(set(what_asset)))\n",
    "print(f'Tipos de transaccion: {txn_type} \\n')\n",
    "print(f'Total involved accounts per transaction type: {accounts_per_type} \\n')\n",
    "print(f'Total senders involved per transaction type : {senders_per_type}\\n')\n",
    "print(f'Total receivers involved per transaction type: {receivers_per_type} \\n')\n",
    "print(f'Percentage of all accounts involved for each transaction type {percent_accounts_per_type}')\n",
    "print(f'Transaction amount: {len(transaction_amount)}')\n",
    "print(f'Closing transactions: {closing_transactions}')\n",
    "print(f'Number of transactions sending more than 1 Algo: {len(more_than_one)}') #831 de las transacciones son envios mayores que 1 algo\n",
    "print(f'On average each with each transaction {mean_amount} Algos are being sent')\n",
    "print(f'{percent_more_than_one} % of total transactions are type pay and send more than 1 Algo')"
   ]
  }
 ],
 "metadata": {
  "kernelspec": {
   "display_name": "Python 3.10.7 64-bit",
   "language": "python",
   "name": "python3"
  },
  "language_info": {
   "codemirror_mode": {
    "name": "ipython",
    "version": 3
   },
   "file_extension": ".py",
   "mimetype": "text/x-python",
   "name": "python",
   "nbconvert_exporter": "python",
   "pygments_lexer": "ipython3",
   "version": "3.10.7"
  },
  "orig_nbformat": 4,
  "vscode": {
   "interpreter": {
    "hash": "767d51c1340bd893661ea55ea3124f6de3c7a262a8b4abca0554b478b1e2ff90"
   }
  }
 },
 "nbformat": 4,
 "nbformat_minor": 2
}
