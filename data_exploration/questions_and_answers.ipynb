{
 "cells": [
  {
   "cell_type": "code",
   "execution_count": 76,
   "metadata": {},
   "outputs": [
    {
     "name": "stdout",
     "output_type": "stream",
     "text": [
      "1380\n",
      "16284\n"
     ]
    }
   ],
   "source": [
    "from enum import unique\n",
    "import pickle\n",
    "import pandas as pd\n",
    "import seaborn as sb\n",
    "import matplotlib.pyplot as plt\n",
    "import networkx as nx\n",
    "import os\n",
    "from dotenv import load_dotenv \n",
    "load_dotenv()\n",
    "import numpy as np\n",
    "\n",
    "\n",
    "df = pd.read_pickle(os.environ['SAVE_DF_PATH']+str(os.environ[\"NUMBER_OF_BLOCKS\"]))\n",
    "\n",
    "sender = df['Sender Address'].tolist()\n",
    "receiver = df['Receiver Address'].tolist()\n",
    "total = sender + receiver\n",
    "\n",
    "# new_df = df.groupby(['Receiver Address'])['Sender Address'].count().reset_index(\n",
    "#   name='Count').sort_values(['Count'], ascending=False)\n",
    "\n",
    "# Voy a realizar estadistica descriptiva sobre todas las transacciones que tengo\n",
    "\n",
    "# Numero de transacciones totales en 500 bloques\n",
    "total_transactions = len(sender)\n",
    "# Numero de Senders\n",
    "sender_unique = list(set(sender))\n",
    "# Numero de Receivers\n",
    "receiver_unique = list(set(receiver))\n",
    "# Numero total de cuentas activas en este chunk\n",
    "total_accounts = list(set(total))\n",
    "# Numero de transacciones promedio por sender\n",
    "txn_per_sender= []\n",
    "unique_connections_per_sender= []\n",
    "for sender in sender_unique:\n",
    "    txns = df[df['Sender Address'] == sender]\n",
    "    received_txns_addresses = txns['Receiver Address'].tolist()\n",
    "    unique_received_txns_addresses = list(set(received_txns_addresses))\n",
    "    txn_number = len(received_txns_addresses)\n",
    "    unique_txn_number = len(unique_received_txns_addresses)\n",
    "\n",
    "    txn_per_sender.append(txn_number)\n",
    "    unique_connections_per_sender.append(unique_txn_number)\n",
    "txn_per_sender = np.array(txn_per_sender)\n",
    "unique_connections_per_sender = np.array(unique_connections_per_sender)\n",
    "mean_txn_per_sender = np.mean(txn_per_sender)\n",
    "mean_unique_connections_per_sender = np.mean(unique_connections_per_sender)\n",
    "\n",
    "#print(mean_txn_per_sender)\n",
    "#print(mean_unique_connections_per_sender)\n",
    "\n",
    "print(len(sender_unique))\n",
    "print(len(receiver_unique))"
   ]
  },
  {
   "cell_type": "code",
   "execution_count": 77,
   "metadata": {},
   "outputs": [
    {
     "name": "stdout",
     "output_type": "stream",
     "text": [
      "2.696389093588799\n",
      "1.2485875706214689\n"
     ]
    }
   ],
   "source": [
    "# Numero de transacciones promedio por receiver\n",
    "txn_per_receiver= []\n",
    "unique_connections_per_receiver= []\n",
    "for receiver in receiver_unique:\n",
    "    txns = df[df['Receiver Address'] == receiver]\n",
    "    sent_txns_addresses = txns['Sender Address'].tolist()\n",
    "    unique_sent_txns_addresses = list(set(sent_txns_addresses))\n",
    "    txn_number = len(sent_txns_addresses)\n",
    "    unique_txn_number = len(unique_sent_txns_addresses)\n",
    "\n",
    "    txn_per_receiver.append(txn_number)\n",
    "    unique_connections_per_receiver.append(unique_txn_number)\n",
    "\n",
    "txn_per_receiver = np.array(txn_per_receiver)\n",
    "unique_connections_per_receiver = np.array(unique_connections_per_receiver)\n",
    "mean_txn_per_receiver = np.mean(txn_per_receiver)\n",
    "mean_unique_connections_per_receiver = np.mean(unique_connections_per_receiver)\n",
    "\n",
    "print(mean_txn_per_receiver)\n",
    "print(mean_unique_connections_per_receiver)"
   ]
  },
  {
   "cell_type": "code",
   "execution_count": 15,
   "metadata": {},
   "outputs": [
    {
     "name": "stdout",
     "output_type": "stream",
     "text": [
      "325\n",
      "0.23550724637681159\n",
      "0.01956770425672828\n",
      "15229\n",
      "0.9169125173098922\n",
      "0.9352124785065095\n"
     ]
    }
   ],
   "source": [
    "# De el total de cuentas, cuantas son solo senders, cuantas solo receivers, cuantas ambas?\n",
    "### Para senders\n",
    "only_sender = []\n",
    "only_receiver = []\n",
    "\n",
    "for sender in sender_unique:\n",
    "    receiving_sender = df[df['Receiver Address'] == sender]\n",
    "    receiving_sender = receiving_sender['Receiver Address'].tolist()\n",
    "    if len(receiving_sender) == 0:\n",
    "        only_sender.append(sender)\n",
    "\n",
    "print(len(only_sender))\n",
    "sender_proportion = len(only_sender)/len(sender_unique)\n",
    "sender_total_proportion = len(only_sender)/len(total_accounts)\n",
    "print(sender_proportion)\n",
    "print(sender_total_proportion)\n",
    "\n",
    "### Para receivers\n",
    "\n",
    "\n",
    "for receiver in receiver_unique:\n",
    "    sending_receiver = df[df[\"Sender Address\"] == receiver]\n",
    "    sending_receiver = sending_receiver['Sender Address'].tolist()\n",
    "    if len(sending_receiver) == 0:\n",
    "        only_receiver.append(receiver)\n",
    "\n",
    "print(len(only_receiver))\n",
    "receiver_proportion = len(only_receiver)/len(receiver_unique)\n",
    "receiver_total_proportion = len(only_receiver) / len(total_accounts)\n",
    "print(receiver_proportion)\n",
    "print(receiver_total_proportion)"
   ]
  },
  {
   "cell_type": "code",
   "execution_count": 78,
   "metadata": {},
   "outputs": [
    {
     "name": "stdout",
     "output_type": "stream",
     "text": [
      "31.817391304347826\n",
      "2.696389093588799\n",
      "8.71376811594203\n",
      "1.986858265782363\n"
     ]
    }
   ],
   "source": [
    "# Numero de cuentas unicas con las que se comunica un sender\n",
    "\n",
    "# Numero de cuentas unicas con las que se comunica un receiver\n",
    "\n",
    "# De las cuentas con las que interactua, cuantas veces se comunica en promedio con la misma cuenta?\n",
    "\n",
    "\n",
    "sender_comms_count = [] # aca guardo con cuantas cuentas se comunica un sender\n",
    "receiver_comms_count = [] #aca guardo con cuantas cuentas se comunica un receiver\n",
    "mean_accounts_senders = [] # aca guardo cuantas veces se comunica con un mismo receiver cada sender\n",
    "mean_accounts_receivers = [] #aca guardo cuantas veces se comunica con un mismo sender cada receiver\n",
    "\n",
    "for sender in sender_unique:\n",
    "    sender_filtered = df[df['Sender Address'] == sender]\n",
    "    receivers = sender_filtered['Receiver Address'].tolist()\n",
    "    sender_comms_count.append(len(receivers))\n",
    "    for receiver in list(set(receivers)):\n",
    "        counter = []\n",
    "        counter.append(receivers.count(receiver))\n",
    "    counter = np.array(counter)\n",
    "    mean_accounts_senders.append(np.mean(counter))\n",
    "\n",
    "mean_accounts_senders = np.array(mean_accounts_senders)\n",
    "real_mean_senders = np.mean(mean_accounts_senders)\n",
    "\n",
    "\n",
    "for receiver in receiver_unique:\n",
    "    receiver_filtered = df[df['Receiver Address'] == receiver]\n",
    "    senders = receiver_filtered['Sender Address'].tolist()\n",
    "    receiver_comms_count.append(len(senders))\n",
    "    for sender in list(set(senders)):\n",
    "        counter = []\n",
    "        counter.append(senders.count(sender))\n",
    "    counter = np.array(counter)\n",
    "    mean_accounts_receivers.append(np.mean(counter))\n",
    "\n",
    "mean_accounts_receivers = np.array(mean_accounts_receivers)\n",
    "real_mean_receivers = np.mean(mean_accounts_receivers)\n",
    "\n",
    "print(np.mean(np.array(sender_comms_count)))\n",
    "print(np.mean(np.array(receiver_comms_count)))\n",
    "print(real_mean_senders)\n",
    "print(real_mean_receivers)\n"
   ]
  },
  {
   "cell_type": "code",
   "execution_count": 121,
   "metadata": {},
   "outputs": [
    {
     "name": "stdout",
     "output_type": "stream",
     "text": [
      "[27165954, 127746157, 226701642, 31566704, 283820866, 312769, 287867876, 511484048, 575353596, 575358142]\n",
      "[0.61439494 0.26179875 0.0481469  0.00546566 0.00346977 0.00334695\n",
      " 0.00328553 0.00325483 0.00224153 0.00202659]\n",
      "[75, 1, 476, 111, 50, 78, 29, 13, 11, 11]\n",
      "[14516, 1, 453, 98, 52, 80, 33, 64, 63, 60]\n",
      "[14571, 1, 521, 128, 59, 93, 40, 69, 64, 60]\n",
      "16609\n",
      "[8.77295442e+01 6.02083208e-03 3.13685351e+00 7.70666506e-01\n",
      " 3.55229093e-01 5.59937383e-01 2.40833283e-01 4.15437413e-01\n",
      " 3.85333253e-01 3.61249925e-01]\n"
     ]
    },
    {
     "data": {
      "image/png": "[encoded data removed]",
      "text/plain": [
       "<Figure size 640x480 with 1 Axes>"
      ]
     },
     "metadata": {},
     "output_type": "display_data"
    }
   ],
   "source": [
    "# Cual es el asset id que mas se repite? Cuanto porcentaje de las transacciones involucran a cada asset?\n",
    "\n",
    "asset_id = df['Asset Id'].tolist()\n",
    "\n",
    "ids = []\n",
    "for i in range(len(asset_id)):\n",
    "\n",
    "    id = asset_id[i]\n",
    "    if id != 'NA':\n",
    "        ids.append(id)\n",
    "\n",
    "for id in ids:\n",
    "    id = str(id)\n",
    "ids = pd.DataFrame(data= {\"Asset Id\": ids})\n",
    "asset_txn = len(ids['Asset Id'].tolist())\n",
    "\n",
    "\n",
    "counter = ids.groupby(['Asset Id'])['Asset Id'].count().reset_index(\n",
    "  name='Count').sort_values(['Count'], ascending=False)\n",
    "counter = counter[:10]\n",
    "\n",
    "Ids = counter['Asset Id'].tolist()\n",
    "counts = counter['Count'].tolist()\n",
    "\n",
    "ticks = range(len(Ids))\n",
    "\n",
    "plt.bar(ticks, counts, align = 'center')\n",
    "plt.xticks(ticks, Ids, rotation = 'vertical')\n",
    "\n",
    "asset_total_proportion = np.array(counts)/asset_txn\n",
    "print(Ids)\n",
    "print(asset_total_proportion)\n",
    "\n",
    "unique_accounts = []\n",
    "unique_sending = []\n",
    "unique_receiving = []\n",
    "# Cuantas cuentas unicas usan ese mismo asset? Cual es el promedio de cuentas que usan cada asset? Histograma de eso\n",
    "for id in Ids:\n",
    "\n",
    "  filtered = df[df['Asset Id'] == id]\n",
    "  sending = filtered['Sender Address'].tolist()\n",
    "  receiving = filtered['Receiver Address'].tolist()\n",
    "  unique_sending.append(len(list(set(sending))))\n",
    "  unique_receiving.append(len(list(set(receiving))))\n",
    "  total = sending + receiving\n",
    "  unique_accounts.append(len(list(set(total))))\n",
    "\n",
    "print(unique_sending)\n",
    "print(unique_receiving)\n",
    "print(unique_accounts)\n",
    "print(len(total_accounts))\n",
    "\n",
    "account_proportion = np.array(unique_accounts)/len(total_accounts)\n",
    "print(account_proportion*100)"
   ]
  },
  {
   "cell_type": "code",
   "execution_count": null,
   "metadata": {},
   "outputs": [],
   "source": [
    "# Numero de transacciones que involucran un amount igual a 0, menor a 1, que tipo de asset se mandan?\n",
    "\n",
    "# Por cada tipo de transaccion, cuantas cuentas estan involucradas? Cuanto porcentaje del total de las transacciones en este chunk?\n",
    "\n",
    "# Cual es el promedio de senders y receivers por cada tipo de transaccion?\n",
    "\n",
    "# Dentro de la temporalidad que tengo, los asset que salen de una cuenta, vuelven a ingresar? o solamente se van y no vuelven?\n",
    "\n",
    "### Esto me puede decir capaz que hay senders mas centrales que distribuyen a receivers, capaz no es equitativo\n",
    "\n",
    "# Histograma de tipo de transaccion\n",
    "\n",
    "### Dentro del tipo pay que pasa? la gente se manda algos?\n",
    "\n",
    "# Histograma de distacia entre transacciones (contando por bloque) promedio para senders y receivers\n",
    "\n",
    "# Para el address central, hay algun tipo de temporalidad para el envio de las transacciones que hace? y para las que ya hizo, se repiten?\n",
    "\n",
    "### Cosas que necesito algun tipo de API\n",
    "\n",
    "# Obtener la cantidad de transacciones totales hechas por cada cuenta unica en el frame de temporalidad de 500 bloques, y ver si se puede\n",
    "# deducir a partir de cuantas transacciones hace en promedio una cuenta si alguien es una app o un humano. Importa tambien cuantas\n",
    "# transacciones en promedio realiza cada address en su lifetime."
   ]
  }
 ],
 "metadata": {
  "kernelspec": {
   "display_name": "Python 3.10.7 64-bit",
   "language": "python",
   "name": "python3"
  },
  "language_info": {
   "codemirror_mode": {
    "name": "ipython",
    "version": 3
   },
   "file_extension": ".py",
   "mimetype": "text/x-python",
   "name": "python",
   "nbconvert_exporter": "python",
   "pygments_lexer": "ipython3",
   "version": "3.10.7"
  },
  "orig_nbformat": 4,
  "vscode": {
   "interpreter": {
    "hash": "767d51c1340bd893661ea55ea3124f6de3c7a262a8b4abca0554b478b1e2ff90"
   }
  }
 },
 "nbformat": 4,
 "nbformat_minor": 2
}
