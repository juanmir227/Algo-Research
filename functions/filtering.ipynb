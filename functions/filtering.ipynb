{
 "cells": [
  {
   "cell_type": "code",
   "execution_count": 23,
   "metadata": {},
   "outputs": [],
   "source": [
    "from enum import unique\n",
    "import pickle\n",
    "import pandas as pd\n",
    "import seaborn as sb\n",
    "import matplotlib.pyplot as plt\n",
    "import networkx as nx\n",
    "import os\n",
    "from dotenv import load_dotenv \n",
    "load_dotenv()\n",
    "import numpy as np"
   ]
  },
  {
   "cell_type": "code",
   "execution_count": 82,
   "metadata": {},
   "outputs": [],
   "source": [
    "initial_number = 23000000\n",
    "number_of_blocks = 500\n",
    "\n",
    "df = pd.read_pickle(os.environ['SAVE_DF_PATH']+\"_\"+str(initial_number)+\"_\"+str(number_of_blocks))"
   ]
  },
  {
   "cell_type": "code",
   "execution_count": 83,
   "metadata": {},
   "outputs": [
    {
     "name": "stdout",
     "output_type": "stream",
     "text": [
      "                                          Sender Address  \\\n",
      "1      VFLEEB4ESBPKETRQMTBGEDY77NBUUKRQCVD2GRPUXGLXQE...   \n",
      "14     3NXLX4LPUZ75UAZNUYOZKF3BEZAISIUN4GZDFFEGNNQ3ZR...   \n",
      "15     3NXLX4LPUZ75UAZNUYOZKF3BEZAISIUN4GZDFFEGNNQ3ZR...   \n",
      "16     3NXLX4LPUZ75UAZNUYOZKF3BEZAISIUN4GZDFFEGNNQ3ZR...   \n",
      "20     AHFCKA6S2DQBTXIYZIEF4QFBF5QZFM66CARBK4KEX4RDWN...   \n",
      "...                                                  ...   \n",
      "21064  SZG6VT7FC56WSQWTMYIOYUVO7ZEK7PVTEUGAFZMZZFX5AB...   \n",
      "21071  SMVKPF4ZSWLUKJD7OYQDNREO45TJHGRJEDFJJLPDIQT2LX...   \n",
      "21072  SMVKPF4ZSWLUKJD7OYQDNREO45TJHGRJEDFJJLPDIQT2LX...   \n",
      "21073  SMVKPF4ZSWLUKJD7OYQDNREO45TJHGRJEDFJJLPDIQT2LX...   \n",
      "21077  COUPSPRWIVJKVQZFN2FRSUFQJ75JNHS5HRVDZ2W4JERTOC...   \n",
      "\n",
      "                                        Receiver Address Transaction Type  \\\n",
      "1                                              751307722             appl   \n",
      "14                                             233725848             appl   \n",
      "15                                             233725850             appl   \n",
      "16     FMBXOFAQCSAD4UWU4Q7IX5AV4FRV6AKURJQYGXLW3CTPTQ...            axfer   \n",
      "20     HWDRGOPAWNRT74CAR4XGAB7BMTKEGCYGN3RCDMOXPEGM62...              pay   \n",
      "...                                                  ...              ...   \n",
      "21064                                          835260005             appl   \n",
      "21071  X5IP2POFOMYNPGTE6HIMZOIIJPLEWZBVZZU3D5BZ45LURO...              pay   \n",
      "21072  X5IP2POFOMYNPGTE6HIMZOIIJPLEWZBVZZU3D5BZ45LURO...            axfer   \n",
      "21073                                          779144473             appl   \n",
      "21077  WGPYCXIAKJHEVYMPXDAKKRSZHC37SPL7X23JRWXTVV2Z3C...            axfer   \n",
      "\n",
      "       Transaction block Transaction Amount   Asset Id    Transaction Date  \\\n",
      "1               23000000                 NA         NA 2022-08-22 22:25:39   \n",
      "14              23000000                 NA         NA 2022-08-22 22:25:39   \n",
      "15              23000000                 NA         NA 2022-08-22 22:25:39   \n",
      "16              23000000        25517392783  226701642 2022-08-22 22:25:39   \n",
      "20              23000000           40000000         NA 2022-08-22 22:25:39   \n",
      "...                  ...                ...        ...                 ...   \n",
      "21064           23000499                 NA         NA 2022-08-22 23:01:32   \n",
      "21071           23000499           12398624         NA 2022-08-22 23:01:32   \n",
      "21072           23000499               1099  310014962 2022-08-22 23:01:32   \n",
      "21073           23000499                 NA         NA 2022-08-22 23:01:32   \n",
      "21077           23000499                100  281003266 2022-08-22 23:01:32   \n",
      "\n",
      "                                        Transaction note  \n",
      "1                                                     NA  \n",
      "14                                                    NA  \n",
      "15                                                    NA  \n",
      "16                                                    NA  \n",
      "20                                                    NA  \n",
      "...                                                  ...  \n",
      "21064                                    b'Reach 0.1.10'  \n",
      "21071                                    b'Reach 0.1.10'  \n",
      "21072                                 b'Reach 0.1.10 1)'  \n",
      "21073                                    b'Reach 0.1.10'  \n",
      "21077  b'g$daily - Exchange them for Groceries with t...  \n",
      "\n",
      "[5522 rows x 8 columns]\n"
     ]
    }
   ],
   "source": [
    "#aca filtro los senders grandes que son unilaterales, no se me ocurre como hacerlo de forma programable siendo 100% certero por lo que lo hago a ojo\n",
    "\n",
    "\n",
    "df = df[df['Sender Address'] != 'SN3FSQVLLNWSI3I7QCMQEQN6L42OW5RP4FNM6BNOZHBRKHODSQYU4MUPKE']\n",
    "df = df[df['Sender Address'] != '62FMJKL2BDSYWSF3RYYZHAXA5HICQ57NFZCWWNM4ZJBYSVXG6L5VC647UY']\n",
    "df = df[df['Sender Address'] != 'YKYAFMDGGYCUIAGSBOSEZYJAZG6WRHHTZI3CMBEDLW7SKKRRTGGQAGYCHA']\n",
    "df = df[df['Sender Address'] != 'ZW3ISEHZUHPO7OZGMKLKIIMKVICOUDRCERI454I3DB2BH52HGLSO67W754']\n",
    "df = df[df['Sender Address'] != '5TSQNIL54GB545B3WLC6OVH653SHAELMHU6MSVNGTUNMOEHAMWG7EC3AA4']\n",
    "df = df[df['Sender Address'] != 'M645L4V46IHAZI23JOGCSJ4WYOVCQJ4MXC2NHRGTEUN7GIESD6GNYA7REM']\n",
    "df = df[df['Sender Address'] != 'RDKDV7CVOXLHO2OXBJCSLFDNJBTENDVT3LMFRYTZS7EKIAMAXZKBL42KHA']\n",
    "df = df[df['Sender Address'] != 'YEEYNIF3SWKRH6P63LJZRGMX3VKZU5BYCY2X7FQDJDMNEO2IORWIRYU6KY']\n",
    "df = df[df['Sender Address'] != 'DAIVZYQS5UJ4NXPW7LP23YPKLQZRBCNG44MVJUQU7C64RLIC3TUGAFHNM4']\n",
    "df = df[df['Sender Address'] != 'X2W76H7A57BNGV6UQNMYQHCFOK4BI4DE6AG7V7BIGIYSNGCPBO44JXRMHA']\n",
    "df = df[df['Sender Address'] != 'HCC6IEEJTFDGJ6NFRTB6UHYDZBKGB5Q2LCQCOTWYZLBTZYJNQZ7RQIWNI4']\n",
    "df = df[df['Sender Address'] != 'FC6NUXO5DQSOOKFN4FTDP5XWFFJZTPDQ33FQDDF6AJ4GATT6TVBQMUMSSY']\n",
    "\n",
    "filtered = df[df['Sender Address'] != '5K6J3Z54656IR7YY65WNJT54UW6RBZZYL5LWQUTG4RWOTRTRBE2MR2AODQ']\n",
    "final_filtered = filtered[filtered['Sender Address'] != filtered['Receiver Address']]\n",
    "print(final_filtered)\n"
   ]
  },
  {
   "cell_type": "code",
   "execution_count": 84,
   "metadata": {},
   "outputs": [],
   "source": [
    "final_filtered.to_pickle(os.environ['SAVE_DF_PATH']+\"_\"+str(initial_number)+\"_\"+str(number_of_blocks)+'_filtered')\n",
    "G = nx.from_pandas_edgelist(final_filtered,'Sender Address', 'Receiver Address')\n",
    "nx.write_gexf(G,os.environ[\"SAVE_GEPHI_PATH\"]+\"_\"+str(initial_number)+\"_\" + str(number_of_blocks)+'_filtered.gexf')\n"
   ]
  }
 ],
 "metadata": {
  "kernelspec": {
   "display_name": "Python 3.10.7 64-bit",
   "language": "python",
   "name": "python3"
  },
  "language_info": {
   "codemirror_mode": {
    "name": "ipython",
    "version": 3
   },
   "file_extension": ".py",
   "mimetype": "text/x-python",
   "name": "python",
   "nbconvert_exporter": "python",
   "pygments_lexer": "ipython3",
   "version": "3.10.7"
  },
  "orig_nbformat": 4,
  "vscode": {
   "interpreter": {
    "hash": "767d51c1340bd893661ea55ea3124f6de3c7a262a8b4abca0554b478b1e2ff90"
   }
  }
 },
 "nbformat": 4,
 "nbformat_minor": 2
}
