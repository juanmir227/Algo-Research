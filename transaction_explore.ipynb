{
 "cells": [
  {
   "cell_type": "code",
   "execution_count": 17,
   "metadata": {},
   "outputs": [
    {
     "name": "stdout",
     "output_type": "stream",
     "text": [
      "{'sig': 'UYytbYpvmzpMzoYFQG8B6O1wCBGElMGBZw9hCc7coMvtEalPW6d6x2YHwUxCj2u1kI5vNtVLp1Jg+So2XhBxBw==', 'txn': {'aclose': '2IL6M6XE2TWHZLPDT3IPHZMAWHHYRGOM45BS5WHREFNKWHY3FA7SBLJV3I', 'arcv': '2IL6M6XE2TWHZLPDT3IPHZMAWHHYRGOM45BS5WHREFNKWHY3FA7SBLJV3I', 'fee': 1000, 'fv': 20000001, 'lv': 20001001, 'snd': 'OCRYIWGJW23U7XHGB6TLNFGIA4XZDOXEH7ZJRGKHZ725P33S3IFWLCRABA', 'type': 'axfer', 'xaid': 420476706}}\n"
     ]
    }
   ],
   "source": [
    "import pandas as pd\n",
    "import pickle\n",
    "import os\n",
    "from dotenv import load_dotenv\n",
    "load_dotenv()\n",
    "\n",
    "with open(os.environ[\"SAVE_TXN_PATH\"],'rb') as fp:\n",
    "    transacciones = pickle.load(fp)\n",
    "txn_type = []\n",
    "smart_id = []\n",
    "\n",
    "for i in range(len(transacciones)):\n",
    "    txn_type.append(transacciones[i][\"txn\"][\"type\"])\n",
    "    if transacciones[i][\"txn\"][\"type\"] == 'appl':\n",
    "        smart_id.append(transacciones[i]['txn']['apid'])\n",
    "\n",
    "freq_per_id = []\n",
    "for element in list(set(smart_id)):\n",
    "    freq_per_id.append(smart_id.count(element))\n",
    "len(smart_id)\n",
    "\n",
    "\n",
    "# Hay 609 transacciones de tipo application\n",
    "\n",
    "# data = pd.DataFrame(data={\n",
    "#     'Smart Contract Id' : list(set(smart_id)),\n",
    "#     'Frecuencia' : freq_per_id\n",
    "# })\n",
    "# data\n",
    "# for i in range(len(txn_type)):\n",
    "#     if txn_type[i] == 'appl':\n",
    "#         print(i)\n",
    "\n",
    "# print(transacciones[36]['txn'])\n",
    "# data.sort_values('Frecuencia', ascending=False)\n",
    "\n",
    "for el in transacciones:\n",
    "    if el['txn']['snd'] == \"OCRYIWGJW23U7XHGB6TLNFGIA4XZDOXEH7ZJRGKHZ725P33S3IFWLCRABA\":\n",
    "        print(el)\n",
    "        break\n",
    "\n",
    "\n"
   ]
  }
 ],
 "metadata": {
  "kernelspec": {
   "display_name": "Python 3.10.6 64-bit",
   "language": "python",
   "name": "python3"
  },
  "language_info": {
   "codemirror_mode": {
    "name": "ipython",
    "version": 3
   },
   "file_extension": ".py",
   "mimetype": "text/x-python",
   "name": "python",
   "nbconvert_exporter": "python",
   "pygments_lexer": "ipython3",
   "version": "3.10.7"
  },
  "orig_nbformat": 4,
  "vscode": {
   "interpreter": {
    "hash": "e7370f93d1d0cde622a1f8e1c04877d8463912d04d973331ad4851f04de6915a"
   }
  }
 },
 "nbformat": 4,
 "nbformat_minor": 2
}
