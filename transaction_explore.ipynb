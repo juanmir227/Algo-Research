{
 "cells": [
  {
   "cell_type": "code",
   "execution_count": 2,
   "metadata": {},
   "outputs": [
    {
     "data": {
      "text/plain": [
       "{'hgi': True,\n",
       " 'sig': '9JsD7Q6yX4xLW6YN+HnTobsofS3ey+67L6EuACKk7OJHCoDXX1Hceg4gcjxGoiA5W0uI7hmmQP4LApiL9gEpCQ==',\n",
       " 'txn': {'aamt': 1,\n",
       "  'arcv': 'C7RYOGEWDT7HZM3HKPSMU7QGWTRWR3EPOQTJ2OHXGYLARD3X62DNWELS34',\n",
       "  'fee': 1000,\n",
       "  'fv': 19999997,\n",
       "  'lv': 20000997,\n",
       "  'note': 'eyJpIjoiMTAyZTJlMDkzOTNiZmI2MDk1Y2E2ODNiY2M1OGJhNWIiLCJ3IjoiMzJkZDdiNjc2Nzk1N2RlYmE2ODIwMzM1YzI3MWQ5OWUiLCJ3ciI6MTkzNSwid2QiOjYsImIiOiI4MDUzNDg1YjM3M2Y2ZWQ5ZWQ0MDAxMDliNDgyY2MwZCIsImJyIjoxOTM5LCJiZCI6LTYsImYiOiIyMDIxLTEyLTAzVDExOjQ0OjM4WiJ9',\n",
       "  'snd': 'C7RYOGEWDT7HZM3HKPSMU7QGWTRWR3EPOQTJ2OHXGYLARD3X62DNWELS34',\n",
       "  'type': 'axfer',\n",
       "  'xaid': 127746157}}"
      ]
     },
     "execution_count": 2,
     "metadata": {},
     "output_type": "execute_result"
    }
   ],
   "source": [
    "import pandas as pd\n",
    "import pickle\n",
    "import os\n",
    "from dotenv import load_dotenv\n",
    "load_dotenv()\n",
    "\n",
    "with open(os.environ[\"SAVE_TXN_PATH\"],'rb') as fp:\n",
    "    transacciones = pickle.load(fp)\n",
    "\n",
    "transacciones[4]"
   ]
  }
 ],
 "metadata": {
  "kernelspec": {
   "display_name": "Python 3.10.6 64-bit",
   "language": "python",
   "name": "python3"
  },
  "language_info": {
   "codemirror_mode": {
    "name": "ipython",
    "version": 3
   },
   "file_extension": ".py",
   "mimetype": "text/x-python",
   "name": "python",
   "nbconvert_exporter": "python",
   "pygments_lexer": "ipython3",
   "version": "3.10.6"
  },
  "orig_nbformat": 4,
  "vscode": {
   "interpreter": {
    "hash": "e7370f93d1d0cde622a1f8e1c04877d8463912d04d973331ad4851f04de6915a"
   }
  }
 },
 "nbformat": 4,
 "nbformat_minor": 2
}
